{
 "cells": [
  {
   "cell_type": "code",
   "execution_count": 2,
   "metadata": {},
   "outputs": [],
   "source": [
    "import logging\n",
    "import os\n",
    "import sys\n",
    "import traceback\n",
    "\n",
    "import torch\n",
    "\n",
    "from hydra import compose, initialize_config_module\n",
    "from hydra.utils import instantiate\n",
    "\n",
    "from omegaconf import OmegaConf\n",
    "\n",
    "from training.utils.train_utils import makedir, register_omegaconf_resolvers\n",
    "\n",
    "os.environ[\"HYDRA_FULL_ERROR\"] = \"1\""
   ]
  },
  {
   "cell_type": "code",
   "execution_count": 3,
   "metadata": {},
   "outputs": [],
   "source": [
    "def single_proc_run(local_rank, main_port, cfg, world_size):\n",
    "    \"\"\"Single GPU process\"\"\"\n",
    "    os.environ[\"MASTER_ADDR\"] = \"localhost\"\n",
    "    os.environ[\"MASTER_PORT\"] = str(main_port)\n",
    "    os.environ[\"RANK\"] = str(local_rank)\n",
    "    os.environ[\"LOCAL_RANK\"] = str(local_rank)\n",
    "    os.environ[\"WORLD_SIZE\"] = str(world_size)\n",
    "    try:\n",
    "        register_omegaconf_resolvers()\n",
    "    except Exception as e:\n",
    "        logging.info(e)\n",
    "\n",
    "    trainer = instantiate(cfg.trainer, _recursive_=False)\n",
    "    trainer.run()\n",
    "\n",
    "\n",
    "def single_node_runner(cfg, main_port: int):\n",
    "\n",
    "    # CUDA runtime does not support `fork`\n",
    "    torch.multiprocessing.set_start_method(\"spawn\")\n",
    "\n",
    "    single_proc_run(local_rank=0, main_port=main_port, cfg=cfg, world_size=1)\n",
    "\n",
    "\n",
    "def format_exception(e: Exception, limit=20):\n",
    "    traceback_str = \"\".join(traceback.format_tb(e.__traceback__, limit=limit))\n",
    "    return f\"{type(e).__name__}: {e}\\nTraceback:\\n{traceback_str}\"\n",
    "\n",
    "\n",
    "def add_pythonpath_to_sys_path():\n",
    "    if \"PYTHONPATH\" not in os.environ or not os.environ[\"PYTHONPATH\"]:\n",
    "        return\n",
    "    sys.path = os.environ[\"PYTHONPATH\"].split(\":\") + sys.path\n",
    "\n"
   ]
  },
  {
   "cell_type": "code",
   "execution_count": 4,
   "metadata": {},
   "outputs": [],
   "source": [
    "initialize_config_module(\"sam2\", version_base=\"1.2\")\n",
    "register_omegaconf_resolvers()"
   ]
  },
  {
   "cell_type": "code",
   "execution_count": 9,
   "metadata": {},
   "outputs": [],
   "source": [
    "cfg = compose(config_name=\"configs/sam2.1_training/sam2.1_hiera_b+_MOSE_finetune.yaml\")"
   ]
  },
  {
   "cell_type": "code",
   "execution_count": 17,
   "metadata": {},
   "outputs": [],
   "source": [
    "# Customize the config\n",
    "cfg.scratch.max_num_objects = 10\n",
    "cfg.scratch.num_epochs = 2\n",
    "cfg.launcher.gpus_per_node = 1\n",
    "cfg.launcher.num_nodes = 1\n",
    "cfg.dataset.img_folder = \"/home/kasm-user/sam2_ft/mini_dataset/train/images\"\n",
    "cfg.dataset.gt_folder = \"/home/kasm-user/sam2_ft/mini_dataset/train/annotations\"\n",
    "cfg.dataset.file_list_txt = \"/home/kasm-user/sam2_ft/mini_dataset/list_files.txt\"\n",
    "cfg.trainer.checkpoint.model_weight_initializer.state_dict.checkpoint_path = (\n",
    "    \"/home/kasm-user/sam2_ft/checkpoints/sam2.1_hiera_tiny.pt\"\n",
    ")"
   ]
  },
  {
   "cell_type": "code",
   "execution_count": 18,
   "metadata": {},
   "outputs": [],
   "source": [
    "if cfg.launcher.experiment_log_dir is None:\n",
    "    cfg.launcher.experiment_log_dir = os.path.join(\n",
    "        os.getcwd(), \"sam2_logs\", \"experiment_log_dir\"\n",
    "    )"
   ]
  },
  {
   "cell_type": "code",
   "execution_count": null,
   "metadata": {},
   "outputs": [],
   "source": [
    "print(\"###################### Train App Config ####################\")\n",
    "print(OmegaConf.to_yaml(cfg))\n",
    "print(\"############################################################\")"
   ]
  },
  {
   "cell_type": "code",
   "execution_count": null,
   "metadata": {},
   "outputs": [],
   "source": [
    "add_pythonpath_to_sys_path()\n",
    "makedir(cfg.launcher.experiment_log_dir)"
   ]
  },
  {
   "cell_type": "code",
   "execution_count": null,
   "metadata": {},
   "outputs": [],
   "source": [
    "single_node_runner(cfg, 4500)"
   ]
  },
  {
   "cell_type": "code",
   "execution_count": null,
   "metadata": {},
   "outputs": [],
   "source": []
  }
 ],
 "metadata": {
  "kernelspec": {
   "display_name": "sam2_ft",
   "language": "python",
   "name": "python3"
  },
  "language_info": {
   "codemirror_mode": {
    "name": "ipython",
    "version": 3
   },
   "file_extension": ".py",
   "mimetype": "text/x-python",
   "name": "python",
   "nbconvert_exporter": "python",
   "pygments_lexer": "ipython3",
   "version": "3.10.16"
  }
 },
 "nbformat": 4,
 "nbformat_minor": 2
}
